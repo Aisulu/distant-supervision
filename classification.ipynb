{
 "cells": [
  {
   "cell_type": "markdown",
   "metadata": {},
   "source": [
    "#### Import libraries and vectors:"
   ]
  },
  {
   "cell_type": "code",
   "execution_count": 116,
   "metadata": {
    "collapsed": false
   },
   "outputs": [],
   "source": [
    "import sqlite3\n",
    "import random\n",
    "import pickle\n",
    "import numpy as np\n",
    "import nltk.tokenize as tk\n",
    "import matplotlib.pyplot as plt\n",
    "import gensim.models as gs\n",
    "import additional.phrase2vec as p2v\n",
    "\n",
    "from sklearn import metrics\n",
    "import sklearn.metrics as met\n",
    "from sklearn import cross_validation\n",
    "from sklearn.metrics.pairwise import cosine_similarity\n",
    "from sklearn.metrics import r2_score\n",
    "from sklearn.metrics import mean_squared_error\n",
    "from sklearn.metrics import mean_absolute_error\n",
    "from sklearn.metrics import explained_variance_score\n",
    "\n",
    "from sklearn import svm\n",
    "from sklearn import neighbors\n",
    "from sklearn.tree import ExtraTreeClassifier\n",
    "from sklearn.tree import DecisionTreeClassifier\n",
    "from sklearn.svm import SVC\n",
    "from sklearn.neural_network import MLPRegressor\n",
    "from sklearn.neural_network import MLPClassifier\n",
    "from sklearn.neighbors.nearest_centroid import NearestCentroid\n",
    "from sklearn.neighbors import RadiusNeighborsClassifier\n",
    "from sklearn.neighbors import KNeighborsClassifier\n",
    "from sklearn.naive_bayes import GaussianNB\n",
    "from sklearn.multioutput import MultiOutputRegressor\n",
    "from sklearn.multioutput import MultiOutputClassifier\n",
    "from sklearn.multiclass import OneVsRestClassifier\n",
    "from sklearn.linear_model import SGDClassifier\n",
    "from sklearn.linear_model import BayesianRidge, LinearRegression\n",
    "from sklearn.ensemble import RandomForestClassifier\n",
    "from sklearn.ensemble import GradientBoostingRegressor\n",
    "from sklearn.ensemble import ExtraTreesClassifier\n",
    "from sklearn.datasets import make_regression\n",
    "\n",
    "from sqlite3 import Error\n",
    "import warnings\n",
    "warnings.filterwarnings(\"ignore\")"
   ]
  },
  {
   "cell_type": "markdown",
   "metadata": {},
   "source": [
    "#### Load vector libraries:"
   ]
  },
  {
   "cell_type": "code",
   "execution_count": 117,
   "metadata": {
    "collapsed": false
   },
   "outputs": [],
   "source": [
    "w2v_path = #pass to GoogleNews-vectors-negative300.bin'\n",
    "w2v = gs.Word2Vec.load_word2vec_format(w2v_path, binary=True)\n",
    "out_dim = 300  # Dimension of output vectors\n",
    "p2v_no_emoji = p2v.Phrase2Vec(out_dim, w2v, e2v=None)\n",
    "sqlite_file = '/Users/sulpak/emotional_DC/db.sqlite3'"
   ]
  },
  {
   "cell_type": "markdown",
   "metadata": {},
   "source": [
    "#### Classes: "
   ]
  },
  {
   "cell_type": "code",
   "execution_count": 118,
   "metadata": {
    "collapsed": true
   },
   "outputs": [],
   "source": [
    "class Tweet(object):\n",
    "    def __init__(self, user_id, tweet_id, coordinates, place,\n",
    "                 text_original, text_clean_with_emojis, text_clean_without_emojis,\n",
    "                 emoji_types, emoji_cnts\n",
    "                ):\n",
    "        \n",
    "        self.user_id = user_id\n",
    "        self.tweet_id = tweet_id\n",
    "        self.coordinates = coordinates\n",
    "        self.place = place\n",
    "        \n",
    "        self.text_original = text_original\n",
    "        self.text_clean_with_emojis = text_clean_with_emojis\n",
    "        self.text_clean_without_emojis = text_clean_without_emojis\n",
    "        \n",
    "        self.emoji_types = emoji_types\n",
    "        self.emoji_cnts = emoji_cnts"
   ]
  },
  {
   "cell_type": "markdown",
   "metadata": {},
   "source": [
    "#### Functions: "
   ]
  },
  {
   "cell_type": "code",
   "execution_count": 119,
   "metadata": {
    "collapsed": true
   },
   "outputs": [],
   "source": [
    "def create_connection(db_file):\n",
    "    try:\n",
    "        conn = sqlite3.connect(db_file)\n",
    "        return conn\n",
    "    except Error as e:\n",
    "        print(e)\n",
    " \n",
    "    return None"
   ]
  },
  {
   "cell_type": "code",
   "execution_count": 120,
   "metadata": {
    "collapsed": true
   },
   "outputs": [],
   "source": [
    "def select_all_votes(conn):\n",
    "    cur = conn.cursor()\n",
    "    cur.execute(\"SELECT * FROM emotions_vote\") \n",
    "    rows = cur.fetchall()\n",
    "    return rows"
   ]
  },
  {
   "cell_type": "code",
   "execution_count": 121,
   "metadata": {
    "collapsed": true
   },
   "outputs": [],
   "source": [
    "def select_all_tweets(conn):\n",
    "    cur = conn.cursor()\n",
    "    cur.execute(\"SELECT * FROM emotions_tweet\") \n",
    "    rows = cur.fetchall()\n",
    "    return rows"
   ]
  },
  {
   "cell_type": "code",
   "execution_count": 122,
   "metadata": {
    "collapsed": true
   },
   "outputs": [],
   "source": [
    "def get_tweet(tweets, t_id):\n",
    "    tuples = [item for item in tweets if item[0] == t_id]\n",
    "    return tuples[0]\n",
    "\n",
    "def get_text(tweet):\n",
    "    return tweet[2]"
   ]
  },
  {
   "cell_type": "code",
   "execution_count": 123,
   "metadata": {
    "collapsed": true
   },
   "outputs": [],
   "source": [
    "def averaged_results(labeled_tweets, annotators_cnt):\n",
    "    labeled_tweets_avg = {}\n",
    "    majority_cnt = round(annotators_cnt/2)+1\n",
    "    cnt = 0\n",
    "    for key in labeled_tweets:\n",
    "        if len(labeled_tweets[key])>=annotators_cnt:\n",
    "            label_avg = []\n",
    "            for em_ind in range (0, 8):\n",
    "                em_cnt = 0\n",
    "                em_int_sum = 0\n",
    "                for l in labeled_tweets[key]:\n",
    "                    if l[em_ind]>0:\n",
    "                        em_cnt +=1\n",
    "                        em_int_sum += l[em_ind]\n",
    "                if em_cnt>0 and em_cnt>=majority_cnt:\n",
    "                    em_int_avg = em_int_sum/em_cnt\n",
    "                    label_avg.append(em_int_avg)\n",
    "                else:\n",
    "                    label_avg.append(0.0)\n",
    "\n",
    "            labeled_tweets_avg.update({key: label_avg})\n",
    "            cnt +=1\n",
    "\n",
    "\n",
    "    return labeled_tweets_avg    "
   ]
  },
  {
   "cell_type": "code",
   "execution_count": 124,
   "metadata": {
    "collapsed": false
   },
   "outputs": [],
   "source": [
    "def one_emotion_tweets(text_and_label):\n",
    "    tweets_one_emotion = {}\n",
    "\n",
    "    for key in text_and_label:\n",
    "        value = text_and_label[key]\n",
    "        non_zero_cnt = np.count_nonzero(value)\n",
    "        if non_zero_cnt<2:\n",
    "            tweets_one_emotion.update({key:text_and_label[key]})\n",
    "\n",
    "    return tweets_one_emotion"
   ]
  },
  {
   "cell_type": "code",
   "execution_count": 125,
   "metadata": {
    "collapsed": true
   },
   "outputs": [],
   "source": [
    "def emoji_in_text(text):\n",
    "    emoji = \"\"\n",
    "    \n",
    "    for e in emoji_types:\n",
    "        if e in text:\n",
    "            emoji = e\n",
    "    \n",
    "    return emoji"
   ]
  },
  {
   "cell_type": "code",
   "execution_count": 126,
   "metadata": {
    "collapsed": false
   },
   "outputs": [],
   "source": [
    "def read_emoji_types():\n",
    "    emoji_types = []\n",
    "\n",
    "    with open(\"additional/emoji_list.txt\") as f:\n",
    "        for line in f:\n",
    "            my_array = line.split()\n",
    "            emoji = my_array[0]\n",
    "            emoji_types.append(emoji)\n",
    "\n",
    "    return emoji_types"
   ]
  },
  {
   "cell_type": "code",
   "execution_count": 127,
   "metadata": {
    "collapsed": true
   },
   "outputs": [],
   "source": [
    "def prepare_tweet_vector_averages(tweet_with_label, tweets, p2v, include_emoji):\n",
    "    tokenizer = tk.TweetTokenizer(preserve_case=False, reduce_len=True, strip_handles=True)\n",
    "\n",
    "    avg_vecs = list()\n",
    "    y = list()\n",
    "\n",
    "    for tweet in tweets:\n",
    "        tokens = tokenizer.tokenize(tweet)\n",
    "        inter = set(tokens).intersection(emoji_types)\n",
    "        emoji_found = list(inter)[0]\n",
    "        emoji_index = tokens.index(emoji_found)\n",
    "        \n",
    "        #exclude the emoji from learning\n",
    "        if not include_emoji:\n",
    "            tokens.pop(emoji_index)\n",
    "        y.append(tweet_with_label[tweet])\n",
    "\n",
    "        avg_vecs.append(np.sum([p2v[x] for x in tokens], axis=0) / len(tokens))\n",
    "    \n",
    "    return avg_vecs, y"
   ]
  },
  {
   "cell_type": "code",
   "execution_count": 128,
   "metadata": {
    "collapsed": true
   },
   "outputs": [],
   "source": [
    "def convert_labels_to_int(train_y_float):\n",
    "    train_y_int = []\n",
    "\n",
    "    for y in train_y_float:\n",
    "        int_label = []\n",
    "        for i in range (0, 8):\n",
    "            int_part = int(y[i])\n",
    "            tail_part = y[i] - int(y[i])\n",
    "            if tail_part>=0.5: int_part+=1\n",
    "            int_label.append(int_part)\n",
    "        \n",
    "        train_y_int.append(int_label)\n",
    "    \n",
    "    return train_y_int"
   ]
  },
  {
   "cell_type": "code",
   "execution_count": 129,
   "metadata": {
    "collapsed": false
   },
   "outputs": [],
   "source": [
    "def convert_labels_to_binary(train_y_int):\n",
    "    train_y_binary = []\n",
    "\n",
    "    for y in train_y_int:\n",
    "        bin_label = []\n",
    "        for i in range (0, 8):\n",
    "            if y[i]>0:\n",
    "                bin_label.append(1)\n",
    "            else:\n",
    "                bin_label.append(0)\n",
    "        \n",
    "        train_y_binary.append(bin_label)\n",
    "    \n",
    "    return train_y_binary"
   ]
  },
  {
   "cell_type": "code",
   "execution_count": 130,
   "metadata": {
    "collapsed": true
   },
   "outputs": [],
   "source": [
    "def convert_labels_to_class(train_y_float):\n",
    "    train_y_class = []\n",
    "\n",
    "    for y in train_y_float:\n",
    "        l = 8\n",
    "        for i in range (0, 8):\n",
    "            if y[i]>0:\n",
    "                l = i\n",
    "        train_y_class.append(l)    \n",
    "\n",
    "    return train_y_class"
   ]
  },
  {
   "cell_type": "code",
   "execution_count": 131,
   "metadata": {
    "collapsed": false
   },
   "outputs": [],
   "source": [
    "def divide_the_set(texts, y_class, dist, percent_training):\n",
    "    train_size = int(len(chosen_dict)*percent_training)\n",
    "    training_dict = {}\n",
    "    testing_dict = {}\n",
    "    \n",
    "    for e in range (0, 9):\n",
    "        e_dict = {}\n",
    "\n",
    "        for i in range (0, len(y_class)):\n",
    "            if y_class[i]==e:\n",
    "                e_dict.update({texts[i]:y_class[i]})\n",
    "                \n",
    "        \n",
    "        train_size = int(len(e_dict)*percent_training)\n",
    "        train_keys= random.sample(e_dict.keys(), train_size)\n",
    "        test_keys = [item for item in e_dict.keys() if item not in train_keys]\n",
    "\n",
    "        for key in train_keys:\n",
    "            training_dict.update({key:chosen_dict[key]})\n",
    "        for key in test_keys:\n",
    "            testing_dict.update({key:chosen_dict[key]})\n",
    "\n",
    "    return training_dict, testing_dict"
   ]
  },
  {
   "cell_type": "code",
   "execution_count": 132,
   "metadata": {
    "collapsed": true
   },
   "outputs": [],
   "source": [
    "def draw_heatplot(a):\n",
    "    print(\"   ag  ds  fr  jy  sd  sr  tr  at\")\n",
    "    column_labels = ['']\n",
    "    row_labels = list('')\n",
    "\n",
    "    heatmap = a\n",
    "\n",
    "    fig, ax = plt.subplots()\n",
    "    #heatmap = ax.pcolor(heatmap, cmap=plt.cm.Blues)\n",
    "\n",
    "    ax.set_xticklabels(row_labels, minor=False)\n",
    "    ax.set_yticklabels(column_labels, minor=False)\n",
    "\n",
    "    plt.ylabel('actual emotion')\n",
    "    plt.xlabel('predicted emotion')\n",
    "    plt.imshow(heatmap)\n",
    "\n",
    "    plt.show()"
   ]
  },
  {
   "cell_type": "code",
   "execution_count": 133,
   "metadata": {
    "collapsed": false
   },
   "outputs": [],
   "source": [
    "def draw_confusion_matrix(values_pred, values_true):\n",
    "    h, w = 9, 9\n",
    "    a = [[0 for x in range(w)] for y in range(h)] \n",
    "    \n",
    "    for i in range (0, len(values_pred)):\n",
    "        if values_pred[i]==values_true[i]:\n",
    "            a[values_pred[i]][values_pred[i]] +=1\n",
    "        else:\n",
    "             a[values_true[i]][values_pred[i]] +=1\n",
    "    \n",
    "    #a = numpy.delete(a,(0,1,2,5,6,7), axis=0)\n",
    "    #a = numpy.delete(a,(0,1,2,5,6,7), axis=1)\n",
    "    draw_heatplot(a)\n",
    "    print()    "
   ]
  },
  {
   "cell_type": "code",
   "execution_count": 134,
   "metadata": {
    "collapsed": false
   },
   "outputs": [],
   "source": [
    "def dist_of_emotions(mylist):\n",
    "    dist = [0]*9\n",
    "\n",
    "    for t in mylist:\n",
    "        dist[t] += 1\n",
    "\n",
    "    return dist"
   ]
  },
  {
   "cell_type": "markdown",
   "metadata": {},
   "source": [
    "# CLASSIFICATION / REGRESSION functions"
   ]
  },
  {
   "cell_type": "code",
   "execution_count": 135,
   "metadata": {
    "collapsed": false
   },
   "outputs": [],
   "source": [
    "def multiclass_classification(train_vectors, train_y_class, test_vectors, test_y_class, cv, clf, clf_name):\n",
    "    print(clf_name)\n",
    "    print()\n",
    "\n",
    "    scores = cross_validation.cross_val_score(clf, train_vectors, train_y_class, cv=cv)\n",
    "    print(\"Cross Validation Accuracy on Training Set:\\n %0.2f (+/- %0.3f)\" % (scores.mean(), scores.std() * 2))\n",
    "\n",
    "    clf.fit(train_vectors, train_y_class)\n",
    "    predictions = clf.predict(test_vectors)\n",
    "    \n",
    "    accuracy = met.accuracy_score(test_y_class, predictions)\n",
    "    f1 = met.f1_score(test_y_class, predictions, average='weighted')\n",
    "\n",
    "    print('Accuracy on Test Set:\\n %0.5f, f1=%0.5f' % (accuracy, f1))\n",
    "    print()\n",
    "    draw_confusion_matrix(predictions, test_y_class)\n",
    "\n",
    "    print()"
   ]
  },
  {
   "cell_type": "code",
   "execution_count": 136,
   "metadata": {
    "collapsed": false
   },
   "outputs": [],
   "source": [
    "def multioutput_classification(train_vectors, train_labels, test_vectors, test_labels, clf, clf_name):\n",
    "    print(clf_name)\n",
    "    print()\n",
    "    train_vectors = np.array(train_vectors)\n",
    "    train_labels = np.array(train_labels)\n",
    "\n",
    "    test_vectors = np.array(test_vectors)\n",
    "    test_labels = np.array(test_labels)\n",
    "    \n",
    "    multi_target_clf = MultiOutputClassifier(clf, n_jobs=-1)\n",
    "\n",
    "    cnt = 0\n",
    "    predictions_label = multi_target_clf.fit(train_vectors, train_labels).predict(test_vectors)\n",
    "    for i in range (0, len(test_labels)):\n",
    "        if np.equal(test_labels[i], predictions_label[i]).all():\n",
    "            cnt += 1\n",
    "    accuracy = round(cnt/len(test_labels)*100, 2)\n",
    "    \n",
    "    try:\n",
    "        precision_value = round(100*metrics.precision_score(test_labels, predictions_label, average='macro'), 2)\n",
    "        recall_value = round(100*metrics.recall_score(test_labels, predictions_label, average='micro'), 2)\n",
    "        f1_value = round(100*metrics.f1_score(test_labels, predictions_label, average='weighted'), 2)\n",
    "        \n",
    "        result = \"correctly predicted: \" + str(accuracy) + \" %\\nprecision: \" + str(precision_value) + \"\\nrecall: \" + str(recall_value) + \"\\nf1: \" + str(f1_value)\n",
    "    except:\n",
    "        result = \"correctly predicted: \" + str(accuracy) + \" %\"\n",
    "    \n",
    "    print(result)\n",
    "    print()"
   ]
  },
  {
   "cell_type": "code",
   "execution_count": 137,
   "metadata": {
    "collapsed": false
   },
   "outputs": [],
   "source": [
    "def regression(train_vectors, train_values, test_vectors, test_values, rgs, rgs_name):\n",
    "    train_vectors = np.array(train_vectors)\n",
    "    train_values = np.array(train_values)\n",
    "\n",
    "    test_vectors = np.array(test_vectors)\n",
    "    test_values = np.array(test_values)\n",
    "\n",
    "    prediction = MultiOutputRegressor(rgs).fit(train_vectors, train_values).predict(test_vectors)\n",
    "    ev_sc = round(explained_variance_score(test_values, prediction),2)#, multioutput='uniform_average')\n",
    "    r2_sc = round(r2_score(test_values, prediction),2)#, multioutput=[0.3, 0.7])\n",
    "    mse = round(mean_squared_error(test_values, prediction) , 2) \n",
    "    mae = round(mean_absolute_error(test_values, prediction), 2)#, multioutput=[0.3, 0.7])\n",
    "    cos_sim_list = cosine_similarity(test_values, prediction)\n",
    "    cos_sim = round(np.mean(cos_sim_list), 2)\n",
    "    \n",
    "    print(rgs_name, \"\\n\")\n",
    "    print(\"Cosine similarity: \", str(cos_sim))\n",
    "    print(\"Explained variance: \", str(ev_sc))\n",
    "    print(\"R2 score: \", str(ev_sc))\n",
    "    print(\"Mean squared error: \", str(mse))\n",
    "    print(\"Median absolute error: \", str(mae))\n",
    "    print()"
   ]
  },
  {
   "cell_type": "markdown",
   "metadata": {},
   "source": [
    "#### Read from DB"
   ]
  },
  {
   "cell_type": "code",
   "execution_count": 138,
   "metadata": {
    "collapsed": false
   },
   "outputs": [],
   "source": [
    "conn = create_connection(sqlite_file)\n",
    "votes = select_all_votes(conn)\n",
    "tweets = select_all_tweets(conn)"
   ]
  },
  {
   "cell_type": "code",
   "execution_count": 141,
   "metadata": {
    "collapsed": false
   },
   "outputs": [],
   "source": [
    "def raw_results(tweets, votes):\n",
    "    labeled_tweets = {}\n",
    "    cnt = 0\n",
    "    for v in votes:\n",
    "        voted_tweet = get_tweet(tweets, v[1])\n",
    "        text = get_text(voted_tweet)\n",
    "        label = list(v[3:11])\n",
    "        user = v[2]\n",
    "        try:\n",
    "            labeled_tweets[text].append(label)\n",
    "        except:\n",
    "            labeled_tweets.update({text: []})\n",
    "            labeled_tweets[text].append(label)\n",
    "    return labeled_tweets"
   ]
  },
  {
   "cell_type": "code",
   "execution_count": 146,
   "metadata": {
    "collapsed": false
   },
   "outputs": [
    {
     "name": "stdout",
     "output_type": "stream",
     "text": [
      "41\n",
      "997\n",
      "203\n",
      "176\n"
     ]
    }
   ],
   "source": [
    "emoji_types = read_emoji_types()\n",
    "print(len(emoji_types))\n",
    "\n",
    "text_and_labels = raw_results(tweets, votes)\n",
    "print(len(text_and_labels))\n",
    "\n",
    "text_and_averagLabel = averaged_results(text_and_labels, 3)\n",
    "print(len(text_and_averagLabel))\n",
    "\n",
    "singleEmotionText_and_averageLabel = one_emotion_tweets(text_and_averagLabel)\n",
    "print(len(singleEmotionText_and_averageLabel))"
   ]
  },
  {
   "cell_type": "markdown",
   "metadata": {},
   "source": [
    "# Chosing the set"
   ]
  },
  {
   "cell_type": "code",
   "execution_count": 147,
   "metadata": {
    "collapsed": true
   },
   "outputs": [],
   "source": [
    "#chosen_dict = singleEmotionText_and_averageLabel\n",
    "chosen_dict = text_and_averagLabel"
   ]
  },
  {
   "cell_type": "markdown",
   "metadata": {},
   "source": [
    "#### Divide set to training and testing"
   ]
  },
  {
   "cell_type": "code",
   "execution_count": 148,
   "metadata": {
    "collapsed": false
   },
   "outputs": [],
   "source": [
    "texts = list(chosen_dict.keys())\n",
    "y_float = list(chosen_dict.values())\n",
    "y_int = convert_labels_to_int(y_float)\n",
    "y_binary = convert_labels_to_binary(y_int)\n",
    "y_class = convert_labels_to_class(y_float)"
   ]
  },
  {
   "cell_type": "code",
   "execution_count": 149,
   "metadata": {
    "collapsed": false
   },
   "outputs": [
    {
     "name": "stdout",
     "output_type": "stream",
     "text": [
      "Train set size:  158\n",
      "Test set size:  45\n"
     ]
    }
   ],
   "source": [
    "training_dict, testing_dict = divide_the_set(texts, y_class, dist_of_emotions(y_class), 0.8)\n",
    "print(\"Train set size: \", len(training_dict))\n",
    "print(\"Test set size: \", len(testing_dict))"
   ]
  },
  {
   "cell_type": "markdown",
   "metadata": {},
   "source": [
    "#### PROCESS (turn tweets to vectors):"
   ]
  },
  {
   "cell_type": "code",
   "execution_count": 150,
   "metadata": {
    "collapsed": false
   },
   "outputs": [],
   "source": [
    "train = training_dict.keys()\n",
    "train_y = training_dict.values()\n",
    "test = testing_dict.keys()\n",
    "test_y = testing_dict.values()"
   ]
  },
  {
   "cell_type": "code",
   "execution_count": 151,
   "metadata": {
    "collapsed": false
   },
   "outputs": [
    {
     "name": "stdout",
     "output_type": "stream",
     "text": [
      "Tweets were converted to vectors\n"
     ]
    }
   ],
   "source": [
    "train_vectors, train_y_float = prepare_tweet_vector_averages(text_and_averagLabel, train, p2v_no_emoji, True)\n",
    "train_y_int = convert_labels_to_int(train_y_float)\n",
    "train_y_binary = convert_labels_to_binary(train_y_int)\n",
    "train_y_class = convert_labels_to_class(train_y_float)\n",
    "\n",
    "test_vectors, test_y_float = prepare_tweet_vector_averages(text_and_averagLabel, test, p2v_no_emoji, True)\n",
    "test_y_int = convert_labels_to_int(test_y_float)\n",
    "test_y_binary = convert_labels_to_binary(test_y_int)\n",
    "test_y_class = convert_labels_to_class(test_y_float)\n",
    "\n",
    "print(\"Tweets were converted to vectors\")"
   ]
  },
  {
   "cell_type": "code",
   "execution_count": 152,
   "metadata": {
    "collapsed": false
   },
   "outputs": [
    {
     "name": "stdout",
     "output_type": "stream",
     "text": [
      "Emotion distributions:\n",
      "\n",
      "Whole set:\t [1, 1, 0, 114, 31, 13, 3, 8, 32]\n",
      "Training set:\t [0, 0, 0, 91, 24, 10, 2, 6, 25]\n",
      "Test set:\t [1, 1, 0, 23, 7, 3, 1, 2, 7]\n"
     ]
    }
   ],
   "source": [
    "print(\"Emotion distributions:\\n\")\n",
    "print(\"Whole set:\\t\", dist_of_emotions(y_class))\n",
    "print(\"Training set:\\t\", dist_of_emotions(train_y_class))\n",
    "print(\"Test set:\\t\", dist_of_emotions(test_y_class))"
   ]
  },
  {
   "cell_type": "markdown",
   "metadata": {},
   "source": [
    "## Multiclass classification"
   ]
  },
  {
   "cell_type": "code",
   "execution_count": 153,
   "metadata": {
    "collapsed": false
   },
   "outputs": [],
   "source": [
    "classifiers = {\n",
    "        'SGD (n_iter=50)': SGDClassifier(n_iter=50),\n",
    "        'Random Forest (n_estimators=60)': RandomForestClassifier(n_estimators=60),\n",
    "        'Nearest neighbors': NearestCentroid(),\n",
    "        'Naive Bayes': GaussianNB(),\n",
    "        #'MPL':MLPClassifier(solver='lbfgs', alpha=1e-5, hidden_layer_sizes=(5, 2), random_state=1)\n",
    "}"
   ]
  },
  {
   "cell_type": "code",
   "execution_count": 154,
   "metadata": {
    "collapsed": false
   },
   "outputs": [
    {
     "name": "stdout",
     "output_type": "stream",
     "text": [
      "SGD (n_iter=50)\n",
      "\n",
      "Cross Validation Accuracy on Training Set:\n",
      " 0.55 (+/- 0.102)\n",
      "Accuracy on Test Set:\n",
      " 0.42222, f1=0.34921\n",
      "\n",
      "   ag  ds  fr  jy  sd  sr  tr  at\n"
     ]
    },
    {
     "data": {
      "image/png": "[encoded data removed]",
      "text/plain": [
       "<matplotlib.figure.Figure at 0x3428a7a20>"
      ]
     },
     "metadata": {},
     "output_type": "display_data"
    },
    {
     "name": "stdout",
     "output_type": "stream",
     "text": [
      "\n",
      "\n",
      "Random Forest (n_estimators=60)\n",
      "\n",
      "Cross Validation Accuracy on Training Set:\n",
      " 0.56 (+/- 0.038)\n",
      "Accuracy on Test Set:\n",
      " 0.53333, f1=0.38980\n",
      "\n",
      "   ag  ds  fr  jy  sd  sr  tr  at\n"
     ]
    },
    {
     "data": {
      "image/png": "[encoded data removed]",
      "text/plain": [
       "<matplotlib.figure.Figure at 0x1fe3f1048>"
      ]
     },
     "metadata": {},
     "output_type": "display_data"
    },
    {
     "name": "stdout",
     "output_type": "stream",
     "text": [
      "\n",
      "\n",
      "Nearest neighbors\n",
      "\n",
      "Cross Validation Accuracy on Training Set:\n",
      " 0.41 (+/- 0.181)\n",
      "Accuracy on Test Set:\n",
      " 0.28889, f1=0.30877\n",
      "\n",
      "   ag  ds  fr  jy  sd  sr  tr  at\n"
     ]
    },
    {
     "data": {
      "image/png": "[encoded data removed]",
      "text/plain": [
       "<matplotlib.figure.Figure at 0x1e16d2710>"
      ]
     },
     "metadata": {},
     "output_type": "display_data"
    },
    {
     "name": "stdout",
     "output_type": "stream",
     "text": [
      "\n",
      "\n",
      "Naive Bayes\n",
      "\n",
      "Cross Validation Accuracy on Training Set:\n",
      " 0.53 (+/- 0.226)\n",
      "Accuracy on Test Set:\n",
      " 0.42222, f1=0.36040\n",
      "\n",
      "   ag  ds  fr  jy  sd  sr  tr  at\n"
     ]
    },
    {
     "data": {
      "image/png": "[encoded data removed]",
      "text/plain": [
       "<matplotlib.figure.Figure at 0x1e1d27588>"
      ]
     },
     "metadata": {},
     "output_type": "display_data"
    },
    {
     "name": "stdout",
     "output_type": "stream",
     "text": [
      "\n",
      "\n"
     ]
    }
   ],
   "source": [
    "for clf_name in classifiers:\n",
    "    try:\n",
    "        multiclass_classification(train_vectors, train_y_class,\n",
    "                                  test_vectors, test_y_class, 5,\n",
    "                                  classifiers[clf_name], clf_name)\n",
    "    except:\n",
    "        {}"
   ]
  },
  {
   "cell_type": "markdown",
   "metadata": {},
   "source": [
    "## Multioutput classification (0, 1, 0, 0, 1 ...)"
   ]
  },
  {
   "cell_type": "code",
   "execution_count": 155,
   "metadata": {
    "collapsed": false
   },
   "outputs": [
    {
     "name": "stdout",
     "output_type": "stream",
     "text": [
      "SGD (n_iter=50)\n",
      "\n",
      "Random Forest (n_estimators=60)\n",
      "\n",
      "correctly predicted: 48.89 %\n",
      "precision: 7.27\n",
      "recall: 59.52\n",
      "f1: 44.86\n",
      "\n",
      "Nearest neighbors\n",
      "\n",
      "Naive Bayes\n",
      "\n",
      "correctly predicted: 37.78 %\n",
      "precision: 10.98\n",
      "recall: 54.76\n",
      "f1: 48.99\n",
      "\n"
     ]
    }
   ],
   "source": [
    "#RF, NB\n",
    "for clf_name in classifiers:\n",
    "    try:\n",
    "        multioutput_classification(train_vectors, train_y_binary,\n",
    "                                      test_vectors, test_y_binary,\n",
    "                                      classifiers[clf_name], clf_name)\n",
    "    except:{}"
   ]
  },
  {
   "cell_type": "markdown",
   "metadata": {},
   "source": [
    "## Multioutput classification (0, 3, 0, 1, 2 ...)"
   ]
  },
  {
   "cell_type": "code",
   "execution_count": 156,
   "metadata": {
    "collapsed": false
   },
   "outputs": [
    {
     "name": "stdout",
     "output_type": "stream",
     "text": [
      "SGD (n_iter=50)\n",
      "\n",
      "Random Forest (n_estimators=60)\n",
      "\n",
      "correctly predicted: 35.56 %\n",
      "\n",
      "Nearest neighbors\n",
      "\n",
      "Naive Bayes\n",
      "\n",
      "correctly predicted: 28.89 %\n",
      "\n"
     ]
    }
   ],
   "source": [
    "#RF, NB\n",
    "for clf_name in classifiers:\n",
    "    try:\n",
    "        multioutput_classification(train_vectors, train_y_int,\n",
    "                                       test_vectors, test_y_int,\n",
    "                                       classifiers[clf_name], clf_name)\n",
    "    except:\n",
    "        {}"
   ]
  },
  {
   "cell_type": "code",
   "execution_count": 157,
   "metadata": {
    "collapsed": false
   },
   "outputs": [],
   "source": [
    "regressors = {\n",
    "    'Support Vector Machine': svm.SVR(),\n",
    "    'Random Forest': RandomForestClassifier(n_estimators=10),\n",
    "    'Bayesian Ridge': BayesianRidge(compute_score=True),\n",
    "    'K-Neighbors': neighbors.KNeighborsRegressor(5),\n",
    "    'MLP': MLPRegressor(),\n",
    "    \n",
    "    #'Linear Regression': LinearRegression(copy_X=True, fit_intercept=True, n_jobs=1, normalize=False),\n",
    "    #'Gradient Boosting': GradientBoostingRegressor(random_state=0)\n",
    "}"
   ]
  },
  {
   "cell_type": "markdown",
   "metadata": {},
   "source": [
    "## Multioutput-multiclass regression (0.0, 3.2, 0.0, 1.33, 2.7 ...)"
   ]
  },
  {
   "cell_type": "code",
   "execution_count": 158,
   "metadata": {
    "collapsed": false
   },
   "outputs": [
    {
     "name": "stdout",
     "output_type": "stream",
     "text": [
      "Support Vector Machine \n",
      "\n",
      "Cosine similarity:  0.57\n",
      "Explained variance:  0.13\n",
      "R2 score:  0.13\n",
      "Mean squared error:  0.31\n",
      "Median absolute error:  0.26\n",
      "\n",
      "K-Neighbors \n",
      "\n",
      "Cosine similarity:  0.54\n",
      "Explained variance:  -0.0\n",
      "R2 score:  -0.0\n",
      "Mean squared error:  0.31\n",
      "Median absolute error:  0.27\n",
      "\n",
      "MLP \n",
      "\n",
      "Cosine similarity:  0.52\n",
      "Explained variance:  -0.28\n",
      "R2 score:  -0.28\n",
      "Mean squared error:  0.36\n",
      "Median absolute error:  0.34\n",
      "\n"
     ]
    }
   ],
   "source": [
    "for rgs_name in regressors:\n",
    "    try:\n",
    "        regression(train_vectors, train_y_float, test_vectors, test_y_float, regressors[rgs_name], rgs_name)\n",
    "    except:{}"
   ]
  },
  {
   "cell_type": "code",
   "execution_count": null,
   "metadata": {
    "collapsed": true
   },
   "outputs": [],
   "source": []
  }
 ],
 "metadata": {
  "kernelspec": {
   "display_name": "Python 3",
   "language": "python",
   "name": "python3"
  },
  "language_info": {
   "codemirror_mode": {
    "name": "ipython",
    "version": 3
   },
   "file_extension": ".py",
   "mimetype": "text/x-python",
   "name": "python",
   "nbconvert_exporter": "python",
   "pygments_lexer": "ipython3",
   "version": "3.6.3"
  }
 },
 "nbformat": 4,
 "nbformat_minor": 2
}
